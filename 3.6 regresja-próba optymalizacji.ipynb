{
 "cells": [
  {
   "cell_type": "code",
   "execution_count": null,
   "id": "80c24d0d",
   "metadata": {},
   "outputs": [],
   "source": [
    "import pandas as pd\n",
    "import numpy as np\n",
    "from sklearn.model_selection import train_test_split\n",
    "\n",
    "df = pd.read_csv('kc_house_data.csv')"
   ]
  },
  {
   "cell_type": "code",
   "execution_count": null,
   "id": "b67aadc3",
   "metadata": {},
   "outputs": [],
   "source": [
    "df=df.drop([\"id\", \"date\"], axis= 1)"
   ]
  },
  {
   "cell_type": "code",
   "execution_count": null,
   "id": "f86ba66d",
   "metadata": {},
   "outputs": [],
   "source": [
    "from sklearn.linear_model import LinearRegression\n",
    "from sklearn.metrics import mean_squared_error, mean_absolute_error\n",
    "\n",
    "def regression(X, y): \n",
    "    X_train, X_test, y_train, y_test = train_test_split(X, y, train_size = 0.8, random_state=1)\n",
    "    model = LinearRegression()\n",
    "    model.fit(X_train, y_train)\n",
    "    y_pred = model.predict(X_test)\n",
    "\n",
    "    mse = mean_squared_error(y_test, y_pred)\n",
    "    mae = mean_absolute_error(y_test, y_pred)\n",
    "    \n",
    "    return (mse, mae)"
   ]
  },
  {
   "cell_type": "code",
   "execution_count": null,
   "id": "02751d00",
   "metadata": {},
   "outputs": [],
   "source": [
    "import random\n",
    "\n",
    "y =df[[\"price\"]]\n",
    "df = df.drop([\"price\"], axis= 1)\n",
    "best_columns = []\n",
    "# Pętla tworząca nowe DataFrame'y z losowymi kolumnami\n",
    "for i in range(10000):  # Liczba iteracji, np. 5 razy\n",
    "    # Losujemy liczbę kolumn, która ma być w nowym DataFrame\n",
    "    num_columns = random.randint(1, df.shape[1])\n",
    "    \n",
    "    # Losujemy kolumny z oryginalnego DataFrame\n",
    "    selected_columns = random.sample(list(df.columns), num_columns)\n",
    "    # Tworzymy nowy DataFrame z wybranymi kolumnami\n",
    "    X = df[selected_columns]\n",
    "\n",
    "\n",
    "    results = regression(X, y)\n",
    "    if i == 0:\n",
    "        best_mse = results[0]\n",
    "        best_mae = results[0]\n",
    "    else:\n",
    "        if results[0] < best_mse:\n",
    "            best_mse = results[0]\n",
    "            best_mae = results[1]\n",
    "            best_columns = selected_columns\n",
    "            print(i, best_mse, best_mae)\n",
    "\n",
    "print(\"\\nNajlepszy znaleziony zestaw kolumn:\", best_columns)"
   ]
  },
  {
   "cell_type": "code",
   "execution_count": null,
   "id": "163963f7",
   "metadata": {},
   "outputs": [],
   "source": []
  }
 ],
 "metadata": {
  "kernelspec": {
   "display_name": "Python 3 (ipykernel)",
   "language": "python",
   "name": "python3"
  },
  "language_info": {
   "codemirror_mode": {
    "name": "ipython",
    "version": 3
   },
   "file_extension": ".py",
   "mimetype": "text/x-python",
   "name": "python",
   "nbconvert_exporter": "python",
   "pygments_lexer": "ipython3",
   "version": "3.9.7"
  }
 },
 "nbformat": 4,
 "nbformat_minor": 5
}
