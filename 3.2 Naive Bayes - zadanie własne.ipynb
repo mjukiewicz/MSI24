{
 "cells": [
  {
   "cell_type": "code",
   "execution_count": null,
   "id": "d69cab6b",
   "metadata": {},
   "outputs": [],
   "source": [
    "#wczytaj pliki treningowy (Corona_NLP_train.csv) jako df_train. Jeśli plik nie chce się wczytać po nazwie pliku dodaj encoding='iso-8859-1'"
   ]
  },
  {
   "cell_type": "code",
   "execution_count": null,
   "id": "e0465ec0",
   "metadata": {},
   "outputs": [],
   "source": [
    "#wyświetl zawartość pliku treningowego"
   ]
  },
  {
   "cell_type": "code",
   "execution_count": null,
   "id": "4be08f8b",
   "metadata": {},
   "outputs": [],
   "source": [
    "#zamiana kategorii na liczby od 0 do 4"
   ]
  },
  {
   "cell_type": "code",
   "execution_count": null,
   "id": "8971fe02",
   "metadata": {},
   "outputs": [],
   "source": [
    "#wyświetl zawartość pliku treningowego, aby sprawdzić powyższy podział"
   ]
  },
  {
   "cell_type": "code",
   "execution_count": null,
   "id": "dfdee877",
   "metadata": {},
   "outputs": [],
   "source": [
    "#podziel dane na treningowe i testowe"
   ]
  },
  {
   "cell_type": "code",
   "execution_count": null,
   "id": "58a81416",
   "metadata": {},
   "outputs": [],
   "source": [
    "#przelicz liczbę wystąpień każdego słowa w każdej wiadomości i stworz macierz wystąpień"
   ]
  },
  {
   "cell_type": "code",
   "execution_count": null,
   "id": "41ace52e",
   "metadata": {},
   "outputs": [],
   "source": [
    "#wytrenuj klasyfikator Bayesa"
   ]
  },
  {
   "cell_type": "code",
   "execution_count": null,
   "id": "31994b20",
   "metadata": {},
   "outputs": [],
   "source": [
    "#zrób predykcję na danych testowych i sprawdź accuracy, Jeśli wynik nie jest zadowalacący sprawdz inny klasyfikator"
   ]
  }
 ],
 "metadata": {
  "kernelspec": {
   "display_name": "Python 3 (ipykernel)",
   "language": "python",
   "name": "python3"
  },
  "language_info": {
   "codemirror_mode": {
    "name": "ipython",
    "version": 3
   },
   "file_extension": ".py",
   "mimetype": "text/x-python",
   "name": "python",
   "nbconvert_exporter": "python",
   "pygments_lexer": "ipython3",
   "version": "3.9.7"
  }
 },
 "nbformat": 4,
 "nbformat_minor": 5
}
