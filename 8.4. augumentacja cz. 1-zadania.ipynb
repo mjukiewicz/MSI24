{
 "cells": [
  {
   "cell_type": "code",
   "execution_count": null,
   "id": "0dd96726",
   "metadata": {},
   "outputs": [],
   "source": [
    "import numpy as np\n",
    "import matplotlib.pyplot as plt\n",
    "import tensorflow as tf\n",
    "import pandas as pd\n",
    "import os\n",
    "os.environ[\"KMP_DUPLICATE_LIB_OK\"]=\"TRUE\"\n",
    "from tensorflow.keras.callbacks import EarlyStopping\n",
    "from tensorflow.keras.models import Sequential\n",
    "from tensorflow.keras.layers import Dense, Dropout, Conv2D, MaxPooling2D, Flatten\n",
    "from tensorflow.keras.layers import BatchNormalization\n",
    "\n",
    "es = EarlyStopping(monitor = \"val_loss\", mode = \"min\", patience = 5)\n",
    "\n",
    "EPOCHS = 100"
   ]
  },
  {
   "cell_type": "code",
   "execution_count": null,
   "id": "e667796f",
   "metadata": {},
   "outputs": [],
   "source": [
    "from keras.preprocessing.image import ImageDataGenerator\n",
    "\n",
    "root_path = \"dataset/training_set/\"\n",
    "\n",
    "gen = ImageDataGenerator(\n",
    "    rescale=1./255,\n",
    "    horizontal_flip=True,\n",
    "    vertical_flip=True,\n",
    "    rotation_range=20,\n",
    "    validation_split=0.2\n",
    ")\n",
    "\n",
    "# Load Data\n",
    "train_ds = gen.flow_from_directory(\n",
    "    root_path,\n",
    "    class_mode=\"categorical\",\n",
    "    classes = os.listdir(root_path), #klasy nazwij tak, jak nazywają się foldery w folderze dataset\n",
    "    shuffle=True,\n",
    "    batch_size=32,\n",
    "    target_size=(128,128),\n",
    "    subset=\"training\"\n",
    ")\n",
    "\n",
    "valid_ds = gen.flow_from_directory(\n",
    "    root_path,\n",
    "    class_mode=\"categorical\",\n",
    "    classes = os.listdir(root_path),\n",
    "    shuffle=True,\n",
    "    batch_size=32,\n",
    "    target_size=(128,128),\n",
    "    subset=\"validation\"\n",
    ")\n"
   ]
  },
  {
   "cell_type": "code",
   "execution_count": null,
   "id": "fd5c24ed",
   "metadata": {},
   "outputs": [],
   "source": [
    "classes = os.listdir(root_path) #stwórz listę, w której będą nazwy klas. Stwórz ją na podstawie nazw folderów"
   ]
  },
  {
   "cell_type": "code",
   "execution_count": null,
   "id": "d758f83c",
   "metadata": {},
   "outputs": [],
   "source": [
    "classes"
   ]
  },
  {
   "cell_type": "code",
   "execution_count": null,
   "id": "177296c6",
   "metadata": {},
   "outputs": [],
   "source": [
    "plt.figure(figsize=(10,10))\n",
    "img, label = train_ds.next()\n",
    "for i in range(1,26):\n",
    "    plt.subplot(5,5,i)\n",
    "    plt.imshow(img[i])\n",
    "    plt.axis('off')\n",
    "    plt.title(classes[np.argmax(label[i,:])])\n",
    "    \n",
    "# ponieważ labele są w formacie [0,1], poleceniem argmax sprawdzamy, na którym miejscu\n",
    "# jest jedynka. W powyższym przykładzie na pozycji 2. Oznacza to, że taki label wskazuje \n",
    "# na \"dog\".\n",
    "# classes[np.argmax(label[i,:])] ->\n",
    "# classes[np.argmax([0,1])] ->\n",
    "# classes[2] -> \"doge\"\n",
    "\n",
    "    "
   ]
  },
  {
   "cell_type": "code",
   "execution_count": null,
   "id": "1efafc9b",
   "metadata": {},
   "outputs": [],
   "source": [
    "# Stwórz dwa modele.  \n",
    "# Pierwszy bez augumentacji - dane należy wczytać na nowo.  Drugi z augumentacją i z \n",
    "# wykorzystaniem danych wczytanych u góry. Stwórz wykresy dla obu i porównaj.\n",
    "# W pierwszym modelu dostosuj liczbę warstw maksymalizując accuracy. Następnie dla\n",
    "# dokładnie takiego samego modelu powtórz te czynności, wykorzystując dane z augumentacją."
   ]
  }
 ],
 "metadata": {
  "kernelspec": {
   "display_name": "Python 3 (ipykernel)",
   "language": "python",
   "name": "python3"
  },
  "language_info": {
   "codemirror_mode": {
    "name": "ipython",
    "version": 3
   },
   "file_extension": ".py",
   "mimetype": "text/x-python",
   "name": "python",
   "nbconvert_exporter": "python",
   "pygments_lexer": "ipython3",
   "version": "3.9.7"
  }
 },
 "nbformat": 4,
 "nbformat_minor": 5
}
