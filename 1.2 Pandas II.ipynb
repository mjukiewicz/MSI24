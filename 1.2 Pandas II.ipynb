{
 "cells": [
  {
   "cell_type": "markdown",
   "id": "590efdbb",
   "metadata": {},
   "source": [
    "# 1. Wczytywanie pliku"
   ]
  },
  {
   "cell_type": "code",
   "execution_count": null,
   "id": "ba3d7f61",
   "metadata": {},
   "outputs": [],
   "source": [
    "import pandas as pd\n",
    "\n",
    "df = pd.read_csv('water_potability.csv')"
   ]
  },
  {
   "cell_type": "markdown",
   "id": "749b3551",
   "metadata": {},
   "source": [
    "# 2. Podgląd całości pliku"
   ]
  },
  {
   "cell_type": "code",
   "execution_count": null,
   "id": "aa316471",
   "metadata": {},
   "outputs": [],
   "source": [
    "df"
   ]
  },
  {
   "cell_type": "markdown",
   "id": "b0abe114",
   "metadata": {},
   "source": [
    "# 3. Wyświetlanie częściowe"
   ]
  },
  {
   "cell_type": "code",
   "execution_count": null,
   "id": "f79d5a3b",
   "metadata": {},
   "outputs": [],
   "source": [
    "df.head(5)"
   ]
  },
  {
   "cell_type": "markdown",
   "id": "d91872cd",
   "metadata": {},
   "source": [
    "# 4. Podsumowanie danych"
   ]
  },
  {
   "cell_type": "code",
   "execution_count": null,
   "id": "7dad66bf",
   "metadata": {},
   "outputs": [],
   "source": [
    "df.describe()"
   ]
  },
  {
   "cell_type": "markdown",
   "id": "c05481c3",
   "metadata": {},
   "source": [
    "# 5. Ile razy występuje NaN w danych?"
   ]
  },
  {
   "cell_type": "code",
   "execution_count": null,
   "id": "7037c34a",
   "metadata": {},
   "outputs": [],
   "source": [
    "df.isna()"
   ]
  },
  {
   "cell_type": "code",
   "execution_count": null,
   "id": "cf02c774",
   "metadata": {},
   "outputs": [],
   "source": [
    "df.isna().sum()"
   ]
  },
  {
   "cell_type": "code",
   "execution_count": null,
   "id": "cb3d02bd",
   "metadata": {},
   "outputs": [],
   "source": [
    "df.isna().sum().sum()"
   ]
  },
  {
   "cell_type": "markdown",
   "id": "5966c395",
   "metadata": {},
   "source": [
    "# 6. Wypełnianie braków "
   ]
  },
  {
   "cell_type": "code",
   "execution_count": null,
   "id": "1f0f0ff5",
   "metadata": {},
   "outputs": [],
   "source": [
    "df['ph'] = df['ph'].fillna(0)\n",
    "df"
   ]
  },
  {
   "cell_type": "code",
   "execution_count": null,
   "id": "36713903",
   "metadata": {},
   "outputs": [],
   "source": [
    "mean_value = df['Sulfate'].mean()\n",
    "df['Sulfate'] = df['Sulfate'].fillna(mean_value)\n",
    "df"
   ]
  },
  {
   "cell_type": "code",
   "execution_count": null,
   "id": "8a6861db",
   "metadata": {},
   "outputs": [],
   "source": [
    "median_value = df['Trihalomethanes'].median()\n",
    "df['Trihalomethanes'] = df['Trihalomethanes'].fillna(median_value)\n",
    "df"
   ]
  },
  {
   "cell_type": "markdown",
   "id": "c377bebc",
   "metadata": {},
   "source": [
    "# 7. Podsumowanie po uzupełnieniu braków"
   ]
  },
  {
   "cell_type": "code",
   "execution_count": null,
   "id": "190dc947",
   "metadata": {},
   "outputs": [],
   "source": [
    "df.describe()"
   ]
  }
 ],
 "metadata": {
  "kernelspec": {
   "display_name": "Python 3 (ipykernel)",
   "language": "python",
   "name": "python3"
  },
  "language_info": {
   "codemirror_mode": {
    "name": "ipython",
    "version": 3
   },
   "file_extension": ".py",
   "mimetype": "text/x-python",
   "name": "python",
   "nbconvert_exporter": "python",
   "pygments_lexer": "ipython3",
   "version": "3.9.7"
  }
 },
 "nbformat": 4,
 "nbformat_minor": 5
}
