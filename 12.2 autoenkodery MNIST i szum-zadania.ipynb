{
 "cells": [
  {
   "cell_type": "code",
   "execution_count": null,
   "id": "4a568018",
   "metadata": {},
   "outputs": [],
   "source": [
    "import warnings\n",
    "warnings.filterwarnings('ignore')\n",
    "import numpy as np\n",
    "import matplotlib.pyplot as plt\n",
    "import tensorflow as tf\n",
    "import pandas as pd\n",
    "import os\n",
    "os.environ[\"KMP_DUPLICATE_LIB_OK\"]=\"TRUE\"\n",
    "os.environ['CUDA_VISIBLE_DEVICES'] = '-1'\n",
    "\n",
    "EPOCHS = 5\n",
    "#wczytaj zbiór mnist\n"
   ]
  },
  {
   "cell_type": "code",
   "execution_count": null,
   "id": "c5346380",
   "metadata": {},
   "outputs": [],
   "source": [
    "#znormalizuj zbiór treningowy i testestowy"
   ]
  },
  {
   "cell_type": "code",
   "execution_count": null,
   "id": "39e72bb8",
   "metadata": {},
   "outputs": [],
   "source": [
    "#dodaj szum w następujący sposób. Można zmienić parametr równy 0.2, żeby dodać więcej szumu.\n",
    "\n",
    "from tensorflow.keras.layers import GaussianNoise\n",
    "sample = GaussianNoise(0.2)\n",
    "x_train_noise = sample(x_train, training=True)\n",
    "x_val_noise = sample(x_val, training=False)\n"
   ]
  },
  {
   "cell_type": "code",
   "execution_count": null,
   "id": "ce9dccc2",
   "metadata": {},
   "outputs": [],
   "source": [
    "#wyświetl 25 elementów zbioru treningowego z dodanym szumem"
   ]
  },
  {
   "cell_type": "code",
   "execution_count": null,
   "id": "997ffcec",
   "metadata": {},
   "outputs": [],
   "source": [
    "#zbuduj autoenkoder, wytrenuj go i wyświetl wyniki predykcji jak w poprzednim zadaniu "
   ]
  },
  {
   "cell_type": "code",
   "execution_count": null,
   "id": "908951f9",
   "metadata": {},
   "outputs": [],
   "source": []
  }
 ],
 "metadata": {
  "kernelspec": {
   "display_name": "Python 3 (ipykernel)",
   "language": "python",
   "name": "python3"
  },
  "language_info": {
   "codemirror_mode": {
    "name": "ipython",
    "version": 3
   },
   "file_extension": ".py",
   "mimetype": "text/x-python",
   "name": "python",
   "nbconvert_exporter": "python",
   "pygments_lexer": "ipython3",
   "version": "3.9.7"
  }
 },
 "nbformat": 4,
 "nbformat_minor": 5
}
