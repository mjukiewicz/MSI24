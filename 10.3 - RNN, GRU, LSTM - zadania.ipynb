{
 "cells": [
  {
   "cell_type": "code",
   "execution_count": null,
   "id": "6d385895",
   "metadata": {},
   "outputs": [],
   "source": [
    "#Na podstawie poprzedniego pliku stwórz 4 modele:\n",
    "#1. z warstwą embedding\n",
    "#2. z warstwą embedding i warstwą SimpleRNN (między embedding a dense), wyposażoną w 32 neurony\n",
    "#3. z warstwą embedding i warstwą GRU (między embedding a dense), wyposażoną w 32 neurony\n",
    "#4. z warstwą embedding i warstwą LSTM (między embedding a dense), wyposażoną w 32 neurony\n",
    "#Dla każdego modelu stwórz wykresy. Która sieć poradziła sobie najlepiej?\n"
   ]
  }
 ],
 "metadata": {
  "kernelspec": {
   "display_name": "Python 3 (ipykernel)",
   "language": "python",
   "name": "python3"
  },
  "language_info": {
   "codemirror_mode": {
    "name": "ipython",
    "version": 3
   },
   "file_extension": ".py",
   "mimetype": "text/x-python",
   "name": "python",
   "nbconvert_exporter": "python",
   "pygments_lexer": "ipython3",
   "version": "3.9.7"
  }
 },
 "nbformat": 4,
 "nbformat_minor": 5
}
