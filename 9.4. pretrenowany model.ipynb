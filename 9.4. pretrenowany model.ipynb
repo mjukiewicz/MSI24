{
 "cells": [
  {
   "cell_type": "code",
   "execution_count": null,
   "id": "0dd96726",
   "metadata": {},
   "outputs": [],
   "source": [
    "import numpy as np\n",
    "import matplotlib.pyplot as plt\n",
    "import tensorflow as tf\n",
    "import pandas as pd\n",
    "import os\n",
    "os.environ[\"KMP_DUPLICATE_LIB_OK\"]=\"TRUE\"\n",
    "os.environ['CUDA_VISIBLE_DEVICES'] = '-1'\n",
    "from tensorflow.keras.callbacks import EarlyStopping\n",
    "from tensorflow.keras.models import Sequential\n",
    "from tensorflow.keras.layers import Dense, Dropout, Conv2D, MaxPooling2D, Flatten\n",
    "from tensorflow.keras.layers import BatchNormalization\n",
    "\n",
    "es = EarlyStopping(monitor = \"val_loss\", mode = \"min\", patience = 5)\n",
    "\n",
    "EPOCHS = 100"
   ]
  },
  {
   "cell_type": "code",
   "execution_count": null,
   "id": "e667796f",
   "metadata": {},
   "outputs": [],
   "source": [
    "from keras.preprocessing.image import ImageDataGenerator\n",
    "\n",
    "root_path = \"/home/jupyter-marcin/MSI24/Zajęcia8/data_images/\"\n",
    "\n",
    "gen = ImageDataGenerator(\n",
    "    rescale=1./255,\n",
    "    horizontal_flip=True,\n",
    "    vertical_flip=True,\n",
    "    rotation_range=20,\n",
    "    validation_split=0.2\n",
    ")\n",
    "\n",
    "# Load Data\n",
    "train_dataset = gen.flow_from_directory(\n",
    "    root_path,\n",
    "    class_mode=\"categorical\",\n",
    "    classes=[\"smile\",\"non_smile\"],\n",
    "    shuffle=True,\n",
    "    batch_size=32,\n",
    "    target_size=(64,64),\n",
    "    subset=\"training\"\n",
    ")\n",
    "\n",
    "validation_dataset = gen.flow_from_directory(\n",
    "    root_path,\n",
    "    class_mode=\"categorical\",\n",
    "    classes=[\"smile\",\"non_smile\"],\n",
    "    shuffle=True,\n",
    "    batch_size=32,\n",
    "    target_size=(64,64),\n",
    "    subset=\"validation\"\n",
    ")"
   ]
  },
  {
   "cell_type": "code",
   "execution_count": null,
   "id": "64218758",
   "metadata": {},
   "outputs": [],
   "source": [
    "vgg_model = Sequential()\n",
    "\n",
    "pretrained_model= tf.keras.applications.VGG16(include_top=False,\n",
    "                   input_shape=(64,64,3),\n",
    "                   pooling='avg',classes=2,\n",
    "                   weights='imagenet') #'imagenet'\n",
    "for layer in pretrained_model.layers:\n",
    "        layer.trainable=False\n",
    "\n",
    "vgg_model.add(pretrained_model)\n",
    "\n",
    "vgg_model.add(Flatten())\n",
    "vgg_model.add(Dense(2, activation='softmax'))\n",
    "vgg_model.summary()"
   ]
  },
  {
   "cell_type": "code",
   "execution_count": null,
   "id": "1d7da035",
   "metadata": {},
   "outputs": [],
   "source": [
    "vgg_model.compile(optimizer=\"adam\", loss='categorical_crossentropy',metrics=['accuracy'])\n",
    "\n",
    "history = vgg_model.fit(train_dataset, validation_data=validation_dataset, epochs=EPOCHS, callbacks = [es])"
   ]
  },
  {
   "cell_type": "code",
   "execution_count": null,
   "id": "d0b6392d",
   "metadata": {},
   "outputs": [],
   "source": [
    "hist = pd.DataFrame(history.history)\n",
    "plt.figure(figsize=(10,5))\n",
    "plt.subplot(1,2,1)\n",
    "plt.plot(hist.loss, label = \"loss\")\n",
    "plt.plot(hist.val_loss, label = \"val_loss\")\n",
    "plt.xlabel(\"epoch\")\n",
    "plt.ylabel(\"loss\")\n",
    "plt.legend()\n",
    "\n",
    "plt.subplot(1,2,2)\n",
    "plt.plot(hist.accuracy, label = \"acc\")\n",
    "plt.plot(hist.val_accuracy, label = \"val_acc\")\n",
    "plt.xlabel(\"epoch\")\n",
    "plt.ylabel(\"loss\")\n",
    "plt.legend()"
   ]
  },
  {
   "cell_type": "code",
   "execution_count": null,
   "id": "d0979dd9",
   "metadata": {},
   "outputs": [],
   "source": [
    "# Znajdz w internecie listę dostępnych modeli i sprawdź ich skuteczność"
   ]
  },
  {
   "cell_type": "code",
   "execution_count": null,
   "id": "59f8e1f3",
   "metadata": {},
   "outputs": [],
   "source": []
  },
  {
   "cell_type": "code",
   "execution_count": null,
   "id": "edad796e",
   "metadata": {},
   "outputs": [],
   "source": []
  }
 ],
 "metadata": {
  "kernelspec": {
   "display_name": "Python 3 (ipykernel)",
   "language": "python",
   "name": "python3"
  },
  "language_info": {
   "codemirror_mode": {
    "name": "ipython",
    "version": 3
   },
   "file_extension": ".py",
   "mimetype": "text/x-python",
   "name": "python",
   "nbconvert_exporter": "python",
   "pygments_lexer": "ipython3",
   "version": "3.9.7"
  }
 },
 "nbformat": 4,
 "nbformat_minor": 5
}
