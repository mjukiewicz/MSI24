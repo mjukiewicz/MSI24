{
 "cells": [
  {
   "cell_type": "code",
   "execution_count": null,
   "id": "bf6f0cc5",
   "metadata": {},
   "outputs": [],
   "source": [
    "import numpy as np\n",
    "import matplotlib.pyplot as plt\n",
    "import tensorflow as tf\n",
    "import pandas as pd\n",
    "import os\n",
    "os.environ[\"KMP_DUPLICATE_LIB_OK\"]=\"TRUE\"\n",
    "os.environ['CUDA_VISIBLE_DEVICES'] = '-1'\n",
    "\n",
    "(x_train, y_train), (x_test, y_test) = tf.keras.datasets.mnist.load_data()\n",
    "EPOCHS = 20\n"
   ]
  },
  {
   "cell_type": "code",
   "execution_count": null,
   "id": "4da988b4",
   "metadata": {},
   "outputs": [],
   "source": [
    "#wyświetl wymiary zbioru x_train"
   ]
  },
  {
   "cell_type": "code",
   "execution_count": null,
   "id": "4ce7b232",
   "metadata": {},
   "outputs": [],
   "source": [
    "#wyświetl zawartość y_train"
   ]
  },
  {
   "cell_type": "code",
   "execution_count": null,
   "id": "4612bc19",
   "metadata": {},
   "outputs": [],
   "source": [
    "#wyświetl pierwszy element zbioru x_train"
   ]
  },
  {
   "cell_type": "code",
   "execution_count": null,
   "id": "03d3a6ed",
   "metadata": {},
   "outputs": [],
   "source": [
    "#wyświetl wymiary pierwszego elementu zbioru x_train"
   ]
  },
  {
   "cell_type": "code",
   "execution_count": null,
   "id": "f7e60ce3",
   "metadata": {},
   "outputs": [],
   "source": [
    "#wyświetl pierwszy element zbioru x_train w formie tekstowej"
   ]
  },
  {
   "cell_type": "code",
   "execution_count": null,
   "id": "fb247882",
   "metadata": {},
   "outputs": [],
   "source": [
    "#za pomocą polecenia subplot wyświetl 25 pierwszych elementów zbioru x_train jako title wykresu wyświetl \n",
    "#opowiadającą danemu rysunkowi wartość ze zbioru y_train\n"
   ]
  },
  {
   "cell_type": "code",
   "execution_count": null,
   "id": "c0a309a6",
   "metadata": {},
   "outputs": [],
   "source": []
  }
 ],
 "metadata": {
  "kernelspec": {
   "display_name": "Python 3 (ipykernel)",
   "language": "python",
   "name": "python3"
  },
  "language_info": {
   "codemirror_mode": {
    "name": "ipython",
    "version": 3
   },
   "file_extension": ".py",
   "mimetype": "text/x-python",
   "name": "python",
   "nbconvert_exporter": "python",
   "pygments_lexer": "ipython3",
   "version": "3.9.7"
  }
 },
 "nbformat": 4,
 "nbformat_minor": 5
}
