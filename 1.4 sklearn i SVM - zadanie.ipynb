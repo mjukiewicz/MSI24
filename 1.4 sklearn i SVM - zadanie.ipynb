{
 "cells": [
  {
   "cell_type": "code",
   "execution_count": null,
   "id": "df121736",
   "metadata": {},
   "outputs": [],
   "source": [
    "#wczytaj plik Iris.csv"
   ]
  },
  {
   "cell_type": "code",
   "execution_count": null,
   "id": "38d53db7",
   "metadata": {},
   "outputs": [],
   "source": [
    "#wyświetl cały plik"
   ]
  },
  {
   "cell_type": "code",
   "execution_count": null,
   "id": "868d3be6",
   "metadata": {},
   "outputs": [],
   "source": [
    "#wyświetl podsumowanie ostatniej kolumny"
   ]
  },
  {
   "cell_type": "code",
   "execution_count": null,
   "id": "ab00421d",
   "metadata": {},
   "outputs": [],
   "source": [
    "import numpy as np\n",
    "\n",
    "data = np.asarray(df) #zamiana dataframe na array\n",
    "\n",
    "X = data[:,1:5] #tworzenie zmiennej, która zawiera dane (pomiary)\n",
    "y = data[:,5] #tworzenie zmiennej, która zawiera etykiety (Species)\n",
    "print(y)"
   ]
  },
  {
   "cell_type": "code",
   "execution_count": null,
   "id": "9a0b7087",
   "metadata": {},
   "outputs": [],
   "source": [
    "from sklearn.model_selection import train_test_split\n",
    "from sklearn.svm import SVC\n",
    "from sklearn.metrics import accuracy_score\n",
    "\n",
    "X_train, X_test, y_train, y_test = train_test_split(X, y, test_size= 0.2) #podział na dane treningowe i testowe\n",
    "\n",
    "model = SVC(kernel = 'linear') #stworzenie klasyfikatora\n",
    "\n",
    "model.fit(X_train, y_train) #trenowanie klasyfikatora\n",
    "\n",
    "y_pred = model.predict(X_test) #predykcja na danych testowych\n",
    "\n",
    "acc = accuracy_score(y_test, y_pred) #policzenie accuracy\n",
    "print(acc)\n"
   ]
  },
  {
   "cell_type": "raw",
   "id": "d38f2620",
   "metadata": {},
   "source": [
    "Na zajęciach punkty 1-3 na zbiorze Iris.csv. W domu punkty 1-4 za zbiorze heart.csv\n",
    "\n",
    "Zadanie:\n",
    "    1. Sprawdź wyniki klasyfikatora dla różnych wartości test_size (0.2, 0.4, 0.6, 0.8)\n",
    "    2. Sprawdź wyniki klasyfikatora dla różnych kerneli ('linear', 'poly', 'rbf')\n",
    "    3. Przedstaw wszystko na jednym wykresie, gdzie na os X będzie test_size a na osi Y accuracy. Wykres każdego z kerneli powinien być zaznaczony innym kolorem.\n",
    "    4. Sprawozdanie powinno zawierać następujące punkty:\n",
    "        a. prezentacja zbioru, 1-2 zdania oraz dowolne inne podsumowania\n",
    "        b. prezentacja pracy własnej, punkty 1-3\n",
    "        c. własne wnioski"
   ]
  },
  {
   "cell_type": "code",
   "execution_count": null,
   "id": "51018173",
   "metadata": {},
   "outputs": [],
   "source": []
  }
 ],
 "metadata": {
  "kernelspec": {
   "display_name": "Python 3 (ipykernel)",
   "language": "python",
   "name": "python3"
  },
  "language_info": {
   "codemirror_mode": {
    "name": "ipython",
    "version": 3
   },
   "file_extension": ".py",
   "mimetype": "text/x-python",
   "name": "python",
   "nbconvert_exporter": "python",
   "pygments_lexer": "ipython3",
   "version": "3.9.7"
  }
 },
 "nbformat": 4,
 "nbformat_minor": 5
}
