{
 "cells": [
  {
   "cell_type": "code",
   "execution_count": null,
   "id": "b17e7872",
   "metadata": {},
   "outputs": [],
   "source": [
    "import warnings\n",
    "warnings.filterwarnings('ignore')\n",
    "import numpy as np\n",
    "import matplotlib.pyplot as plt\n",
    "import tensorflow as tf\n",
    "import pandas as pd\n",
    "import os\n",
    "os.environ[\"KMP_DUPLICATE_LIB_OK\"]=\"TRUE\"\n",
    "os.environ['CUDA_VISIBLE_DEVICES'] = '-1'\n",
    "from tensorflow.keras import Sequential\n",
    "from tensorflow.keras.layers import Flatten, Dense\n",
    "\n"
   ]
  },
  {
   "cell_type": "code",
   "execution_count": null,
   "id": "b93083b2",
   "metadata": {},
   "outputs": [],
   "source": [
    "df = pd.read_csv('DailyDelhiClimateTrain.csv')"
   ]
  },
  {
   "cell_type": "code",
   "execution_count": null,
   "id": "ff366751",
   "metadata": {},
   "outputs": [],
   "source": [
    "df = df.drop([\"humidity\",\"wind_speed\", \"meanpressure\"], axis=1)"
   ]
  },
  {
   "cell_type": "code",
   "execution_count": null,
   "id": "760470eb",
   "metadata": {},
   "outputs": [],
   "source": [
    "train_size = int(df.shape[0]*0.8)"
   ]
  },
  {
   "cell_type": "code",
   "execution_count": null,
   "id": "7af9dc25",
   "metadata": {},
   "outputs": [],
   "source": [
    "train = df.iloc[:train_size, 1]\n",
    "test = df.iloc[train_size:, 1]"
   ]
  },
  {
   "cell_type": "code",
   "execution_count": null,
   "id": "82a045bd",
   "metadata": {},
   "outputs": [],
   "source": [
    "train = np.array(train).reshape(-1, 1)\n",
    "test = np.array(test).reshape(-1, 1)"
   ]
  },
  {
   "cell_type": "code",
   "execution_count": null,
   "id": "18ece562",
   "metadata": {},
   "outputs": [],
   "source": [
    "from sklearn.preprocessing import MinMaxScaler\n",
    "\n",
    "scaler = MinMaxScaler(feature_range=(-1, 1))\n",
    "train_sc = scaler.fit_transform(train)\n",
    "test_sc = scaler.transform(test)"
   ]
  },
  {
   "cell_type": "code",
   "execution_count": null,
   "id": "1f26093e",
   "metadata": {},
   "outputs": [],
   "source": [
    "window_size = 10\n",
    "\n",
    "def create_time_windows(data, window_size):\n",
    "    windows = []\n",
    "    labels = []\n",
    "    for i in range(len(data) - window_size):\n",
    "        window = data[i:i + window_size]\n",
    "        windows.append(window)\n",
    "        \n",
    "        labels.append(data[i + window_size])  # Ostatni element z okna jako etykieta y\n",
    "    return np.array(windows), np.array(labels)\n",
    "\n",
    "X_train, y_train = create_time_windows(train_sc, window_size)\n",
    "X_test, y_test = create_time_windows(test_sc, window_size)"
   ]
  },
  {
   "cell_type": "code",
   "execution_count": null,
   "id": "15bf19c2",
   "metadata": {},
   "outputs": [],
   "source": [
    "model = Sequential()\n",
    "model.add(Dense(12, input_dim = window_size, activation = 'relu'))\n",
    "model.add(Dense(1, activation = 'linear'))\n",
    "\n",
    "model.summary()\n",
    "\n",
    "model.compile(optimizer='adam',\n",
    "              loss='mean_squared_error')\n",
    "history = model.fit(X_train, y_train, epochs=100, validation_data=(X_test, y_test))"
   ]
  },
  {
   "cell_type": "code",
   "execution_count": null,
   "id": "7c5c40c1",
   "metadata": {},
   "outputs": [],
   "source": [
    "y_pred = model.predict(X_test)"
   ]
  },
  {
   "cell_type": "code",
   "execution_count": null,
   "id": "77c93ad1",
   "metadata": {},
   "outputs": [],
   "source": [
    "plt.plot(y_test)\n",
    "plt.plot(y_pred)\n",
    "plt.xlabel(\"Sample\")\n",
    "plt.ylabel(\"Temperature [C]\")\n",
    "plt.legend()"
   ]
  },
  {
   "cell_type": "code",
   "execution_count": null,
   "id": "5b318306",
   "metadata": {},
   "outputs": [],
   "source": [
    "from sklearn.metrics import r2_score\n",
    "r2_score(y_test, y_pred)"
   ]
  },
  {
   "cell_type": "code",
   "execution_count": null,
   "id": "102140a9",
   "metadata": {},
   "outputs": [],
   "source": [
    "\n",
    "#r2_score to metryka oceny stosowana do pomiaru dopasowania modelu do danych. Jest to również znane jako współczynnik \n",
    "#determinacji (Coefficient of Determination). r2_score mierzy, jak dobrze model regresji przewiduje zmienność zależnej \n",
    "#zmiennej względem wartości przewidywanych przez model.\n",
    "\n",
    "#Wartość r2_score znajduje się w przedziale od 0 do 1."
   ]
  }
 ],
 "metadata": {
  "kernelspec": {
   "display_name": "Python 3 (ipykernel)",
   "language": "python",
   "name": "python3"
  },
  "language_info": {
   "codemirror_mode": {
    "name": "ipython",
    "version": 3
   },
   "file_extension": ".py",
   "mimetype": "text/x-python",
   "name": "python",
   "nbconvert_exporter": "python",
   "pygments_lexer": "ipython3",
   "version": "3.9.7"
  }
 },
 "nbformat": 4,
 "nbformat_minor": 5
}
