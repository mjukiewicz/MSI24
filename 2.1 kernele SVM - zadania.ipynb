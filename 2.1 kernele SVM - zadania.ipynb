{
 "cells": [
  {
   "cell_type": "code",
   "execution_count": null,
   "id": "c06b6465",
   "metadata": {},
   "outputs": [],
   "source": [
    "import pandas as pd\n",
    "import numpy as np\n",
    "from sklearn.model_selection import train_test_split\n",
    "from sklearn.svm import SVC\n",
    "from sklearn.metrics import accuracy_score\n",
    "import matplotlib.pyplot as plt\n",
    "\n",
    "#wczytaj plik 'heart.csv'"
   ]
  },
  {
   "cell_type": "code",
   "execution_count": null,
   "id": "a5439cdb",
   "metadata": {},
   "outputs": [],
   "source": [
    "#wyswietl wszystkie dane"
   ]
  },
  {
   "cell_type": "code",
   "execution_count": null,
   "id": "454e4a29",
   "metadata": {},
   "outputs": [],
   "source": [
    "#sprawdz czy zbior jest równoliczny. najłatwiejszym sposobem jest zsumowanie wartości w ostatniej kolumnie"
   ]
  },
  {
   "cell_type": "code",
   "execution_count": null,
   "id": "9b0feec1",
   "metadata": {},
   "outputs": [],
   "source": [
    "data = np.asarray(df)\n",
    "\n",
    "X = data[:,:-1]\n",
    "y =  data[:,-1]"
   ]
  },
  {
   "cell_type": "code",
   "execution_count": null,
   "id": "d8a5a018",
   "metadata": {},
   "outputs": [],
   "source": [
    "def clasification(X,y, kernel, train_size):\n",
    "    X_train, X_test, y_train, y_test = train_test_split(X, y, train_size = train_size, random_state=42)\n",
    "    model = SVC(kernel = kernel)\n",
    "    model.fit(X_train, y_train)\n",
    "    y_pred = model.predict(X_test)\n",
    "    return accuracy_score(y_test, y_pred)"
   ]
  },
  {
   "cell_type": "code",
   "execution_count": null,
   "id": "e087256a",
   "metadata": {},
   "outputs": [],
   "source": [
    "results = []\n",
    "kernels = ['linear', 'poly', 'rbf']\n",
    "train_set_sizes = [0.2, 0.4, 0.6, 0.8]\n",
    "for kernel in kernels:\n",
    "    small_list = []\n",
    "    for size in train_set_sizes:\n",
    "        small_list.append(clasification(X,y, kernel, size))\n",
    "        print(small_list[-1])\n",
    "    results.append(small_list)\n",
    "            "
   ]
  },
  {
   "cell_type": "code",
   "execution_count": null,
   "id": "b174bdb2",
   "metadata": {},
   "outputs": [],
   "source": [
    "import matplotlib.pyplot as plt\n",
    "\n",
    "for i in range(len(kernels)):\n",
    "    plt.plot(train_set_sizes, results[i],label=kernels[i])\n",
    "    plt.xlabel(\"test set size\")\n",
    "    plt.ylabel(\"accuracy\")\n",
    "plt.legend()"
   ]
  },
  {
   "cell_type": "code",
   "execution_count": null,
   "id": "2f9144dc",
   "metadata": {},
   "outputs": [],
   "source": [
    "def clasification(X,y, c_value):\n",
    "    X_train, X_test, y_train, y_test = train_test_split(X, y, train_size= 0.8, random_state=42) #zmienić random_state\n",
    "    model = SVC(kernel = \"linear\", C = c_value)\n",
    "    model.fit(X_train, y_train)\n",
    "    y_pred = model.predict(X_test)\n",
    "    return accuracy_score(y_test, y_pred)"
   ]
  },
  {
   "cell_type": "code",
   "execution_count": null,
   "id": "7ca5aa1e",
   "metadata": {},
   "outputs": [],
   "source": [
    "results = []\n",
    "c_values = #tutaj umieść listę wartości do sprawdzenia\n",
    "for c in c_values:\n",
    "    results.append(clasification(X,y, c))\n",
    "    print(results[-1])"
   ]
  },
  {
   "cell_type": "code",
   "execution_count": null,
   "id": "f125b981",
   "metadata": {},
   "outputs": [],
   "source": [
    "def clasification(X,y, c_value, n_degree):\n",
    "    X_train, X_test, y_train, y_test = train_test_split(X, y, train_size= 0.8, random_state=42) #zmienić random_state\n",
    "    model = SVC(kernel = \"poly\", degree=n_degree, C=c_value)\n",
    "    model.fit(X_train, y_train)\n",
    "    y_pred = model.predict(X_test)\n",
    "    return accuracy_score(y_test, y_pred)"
   ]
  },
  {
   "cell_type": "code",
   "execution_count": null,
   "id": "a13c7881",
   "metadata": {},
   "outputs": [],
   "source": [
    "results = []\n",
    "n_degree = #tutaj umieść listę wartości do sprawdzenia\n",
    "c_values = #tutaj umieść listę wartości do sprawdzenia\n",
    "for degree in n_degree:\n",
    "    small_list = []\n",
    "    for c_value in c_values:\n",
    "        small_list.append(clasification(X,y, c_value, degree))\n",
    "        print(small_list[-1])\n",
    "    results.append(small_list)"
   ]
  },
  {
   "cell_type": "code",
   "execution_count": null,
   "id": "2d77e933",
   "metadata": {},
   "outputs": [],
   "source": [
    "for i in range(len(n_degree)):\n",
    "    plt.plot(c_values, results[i],label=n_degree[i])\n",
    "    plt.xlabel(\"c value\")\n",
    "    plt.ylabel(\"accuracy\")\n",
    "    #plt.xscale(\"log\")\n",
    "plt.legend()"
   ]
  },
  {
   "cell_type": "code",
   "execution_count": null,
   "id": "cb968e5a",
   "metadata": {},
   "outputs": [],
   "source": []
  }
 ],
 "metadata": {
  "kernelspec": {
   "display_name": "Python 3 (ipykernel)",
   "language": "python",
   "name": "python3"
  },
  "language_info": {
   "codemirror_mode": {
    "name": "ipython",
    "version": 3
   },
   "file_extension": ".py",
   "mimetype": "text/x-python",
   "name": "python",
   "nbconvert_exporter": "python",
   "pygments_lexer": "ipython3",
   "version": "3.9.7"
  }
 },
 "nbformat": 4,
 "nbformat_minor": 5
}
