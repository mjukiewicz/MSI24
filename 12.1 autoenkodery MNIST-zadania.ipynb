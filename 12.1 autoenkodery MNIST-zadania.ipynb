{
 "cells": [
  {
   "cell_type": "code",
   "execution_count": null,
   "id": "4a568018",
   "metadata": {},
   "outputs": [],
   "source": [
    "import warnings\n",
    "warnings.filterwarnings('ignore')\n",
    "import numpy as np\n",
    "import matplotlib.pyplot as plt\n",
    "import tensorflow as tf\n",
    "import pandas as pd\n",
    "import os\n",
    "os.environ[\"KMP_DUPLICATE_LIB_OK\"]=\"TRUE\"\n",
    "os.environ['CUDA_VISIBLE_DEVICES'] = '-1'\n",
    "\n",
    "EPOCHS = 5\n",
    "\n",
    "#wczytaj zbiór mnist\n"
   ]
  },
  {
   "cell_type": "code",
   "execution_count": null,
   "id": "346a3368",
   "metadata": {},
   "outputs": [],
   "source": [
    "#dla przypomnienia, wyświetl 25 elementów zbioru treningowego "
   ]
  },
  {
   "cell_type": "code",
   "execution_count": null,
   "id": "39e72bb8",
   "metadata": {},
   "outputs": [],
   "source": [
    "#znormalizuj zbiór treningowy i testestowy"
   ]
  },
  {
   "cell_type": "code",
   "execution_count": null,
   "id": "997ffcec",
   "metadata": {},
   "outputs": [],
   "source": [
    "#zbuduj sieć o 6 warstwach:\n",
    "#1. flatten\n",
    "#2. dense o 32 neuronach\n",
    "#3. dense o mniejszej liczbie neuronów\n",
    "#4. dense o takiej samej liczbie neuronów jak w punkcie 2 \n",
    "#5. dense o 28*28 neuronach i sigmoidalnej warstwie aktywacji\n",
    "#6. o następującej warstwie: Reshape((28,28)) aby powrócić do pierwotnego kształtu obrazu"
   ]
  },
  {
   "cell_type": "code",
   "execution_count": null,
   "id": "2649f94e",
   "metadata": {},
   "outputs": [],
   "source": [
    "#naucz sieć"
   ]
  },
  {
   "cell_type": "code",
   "execution_count": null,
   "id": "8f0104b9",
   "metadata": {},
   "outputs": [],
   "source": [
    "#zrób predykcję"
   ]
  },
  {
   "cell_type": "code",
   "execution_count": null,
   "id": "4dc9455c",
   "metadata": {},
   "outputs": [],
   "source": [
    "#wyświetl 25 elemntów ze predykowanego zbioru"
   ]
  },
  {
   "cell_type": "code",
   "execution_count": null,
   "id": "908951f9",
   "metadata": {},
   "outputs": [],
   "source": []
  }
 ],
 "metadata": {
  "kernelspec": {
   "display_name": "Python 3 (ipykernel)",
   "language": "python",
   "name": "python3"
  },
  "language_info": {
   "codemirror_mode": {
    "name": "ipython",
    "version": 3
   },
   "file_extension": ".py",
   "mimetype": "text/x-python",
   "name": "python",
   "nbconvert_exporter": "python",
   "pygments_lexer": "ipython3",
   "version": "3.9.7"
  }
 },
 "nbformat": 4,
 "nbformat_minor": 5
}
