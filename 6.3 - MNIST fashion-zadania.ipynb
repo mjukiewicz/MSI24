{
 "cells": [
  {
   "cell_type": "code",
   "execution_count": null,
   "id": "9b5415c5",
   "metadata": {},
   "outputs": [],
   "source": [
    "import numpy as np\n",
    "import matplotlib.pyplot as plt\n",
    "import tensorflow as tf\n",
    "import pandas as pd\n",
    "import os\n",
    "os.environ[\"KMP_DUPLICATE_LIB_OK\"]=\"TRUE\"\n",
    "os.environ['CUDA_VISIBLE_DEVICES'] = '-1'\n",
    "from tensorflow.keras.callbacks import EarlyStopping\n",
    "\n",
    "es = EarlyStopping(monitor = \"val_loss\", mode = \"min\", patience = 5)\n",
    "\n",
    "(x_train, y_train), (x_test, y_test) = tf.keras.datasets.fashion_mnist.load_data()\n",
    "EPOCHS = 20\n"
   ]
  },
  {
   "cell_type": "code",
   "execution_count": null,
   "id": "09a88153",
   "metadata": {},
   "outputs": [],
   "source": [
    "#wyświetl zawartość zbiory y_train"
   ]
  },
  {
   "cell_type": "code",
   "execution_count": null,
   "id": "7595d8bd",
   "metadata": {},
   "outputs": [],
   "source": [
    "class_names = ['T-shirt/top', 'Trouser', 'Pullover', 'Dress', 'Coat', \n",
    "               'Sandal',      'Shirt',   'Sneaker',  'Bag',   'Ankle boot']"
   ]
  },
  {
   "cell_type": "code",
   "execution_count": null,
   "id": "38f493ff",
   "metadata": {},
   "outputs": [],
   "source": [
    "#za pomocą imshow wyświetl pierszy element zbioru x_train"
   ]
  },
  {
   "cell_type": "code",
   "execution_count": null,
   "id": "c4f5c036",
   "metadata": {},
   "outputs": [],
   "source": [
    "pd.options.display.max_columns = None\n",
    "pd.DataFrame(x_train[0])"
   ]
  },
  {
   "cell_type": "code",
   "execution_count": null,
   "id": "de2a25a0",
   "metadata": {},
   "outputs": [],
   "source": [
    "#za pomocą polecenia subplot wyświetl 25 pierwszych elementów zbioru x_train jako title wykresu wyświetl \n",
    "#opowiadającą danemu rysunkowi wartość ze zbioru y_train\n",
    "\n",
    "plt.figure(figsize=(10,10))"
   ]
  },
  {
   "cell_type": "code",
   "execution_count": null,
   "id": "dc04bd2a",
   "metadata": {},
   "outputs": [],
   "source": [
    "#zamień wartości w zbiorze testowym i treningowym na zakres od 0 do 1"
   ]
  },
  {
   "cell_type": "code",
   "execution_count": null,
   "id": "8936ad14",
   "metadata": {},
   "outputs": [],
   "source": [
    "#przygotuj siec wg swojego uznania. Może być taka jak poprzednio\n",
    "\n",
    "from tensorflow.keras import Sequential\n",
    "from tensorflow.keras.layers import Flatten, Dense, Dropout"
   ]
  },
  {
   "cell_type": "code",
   "execution_count": null,
   "id": "133bdd72",
   "metadata": {},
   "outputs": [],
   "source": [
    "#naucz sieć"
   ]
  },
  {
   "cell_type": "code",
   "execution_count": null,
   "id": "59e4c92c",
   "metadata": {},
   "outputs": [],
   "source": [
    "#wyświetl wykresy uczenia"
   ]
  },
  {
   "cell_type": "code",
   "execution_count": null,
   "id": "d97119ad",
   "metadata": {},
   "outputs": [],
   "source": [
    "#zrob predykcję na zbiorze testowym"
   ]
  },
  {
   "cell_type": "code",
   "execution_count": null,
   "id": "9fefd954",
   "metadata": {},
   "outputs": [],
   "source": [
    "#wyświelt jeden z elementów zbioru testowego i wykres prawdopodobieństwa przynależności do klasy"
   ]
  },
  {
   "cell_type": "code",
   "execution_count": null,
   "id": "2dc60729",
   "metadata": {
    "scrolled": true
   },
   "outputs": [],
   "source": [
    "#wyświetl 25 pierwszych elementów zbioru x_test. Jako title wstaw pokolorowany numer bądź nazwę klasy\n",
    "\n",
    "plt.figure(figsize=(10,10))\n"
   ]
  },
  {
   "cell_type": "code",
   "execution_count": null,
   "id": "50d4ae75",
   "metadata": {},
   "outputs": [],
   "source": []
  }
 ],
 "metadata": {
  "kernelspec": {
   "display_name": "Python 3 (ipykernel)",
   "language": "python",
   "name": "python3"
  },
  "language_info": {
   "codemirror_mode": {
    "name": "ipython",
    "version": 3
   },
   "file_extension": ".py",
   "mimetype": "text/x-python",
   "name": "python",
   "nbconvert_exporter": "python",
   "pygments_lexer": "ipython3",
   "version": "3.9.7"
  }
 },
 "nbformat": 4,
 "nbformat_minor": 5
}
