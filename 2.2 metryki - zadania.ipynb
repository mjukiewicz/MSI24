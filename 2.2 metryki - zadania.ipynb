{
 "cells": [
  {
   "cell_type": "code",
   "execution_count": null,
   "id": "c06b6465",
   "metadata": {},
   "outputs": [],
   "source": [
    "import pandas as pd\n",
    "import numpy as np\n",
    "from sklearn.model_selection import train_test_split\n",
    "from sklearn.svm import SVC\n",
    "from sklearn.metrics import accuracy_score\n",
    "import matplotlib.pyplot as plt\n",
    "\n",
    "df = pd.read_csv('heart.csv')"
   ]
  },
  {
   "cell_type": "code",
   "execution_count": null,
   "id": "a5439cdb",
   "metadata": {},
   "outputs": [],
   "source": [
    "df"
   ]
  },
  {
   "cell_type": "code",
   "execution_count": null,
   "id": "9b0feec1",
   "metadata": {},
   "outputs": [],
   "source": [
    "data = np.asarray(df)\n",
    "\n",
    "X = data[:,:-1]\n",
    "y =  data[:,-1]"
   ]
  },
  {
   "cell_type": "code",
   "execution_count": null,
   "id": "e27196cd",
   "metadata": {},
   "outputs": [],
   "source": [
    "#podziel dane z wykorzystaniem test_size = 0.2 i stałego random_state\n",
    "#przygotuj klasyfikator z użyciem SVC, kernela liniowego i C = 0.1\n",
    "#wyświetl accuracy\n",
    "\n"
   ]
  },
  {
   "cell_type": "code",
   "execution_count": null,
   "id": "287f00c0",
   "metadata": {},
   "outputs": [],
   "source": [
    "from sklearn.metrics import confusion_matrix\n",
    "#?????(y_test, y_pred)"
   ]
  },
  {
   "cell_type": "code",
   "execution_count": null,
   "id": "946c1aa6",
   "metadata": {},
   "outputs": [],
   "source": [
    "#Recall jest stosowane w sytuacjach, gdzie priorytetem jest \n",
    "#minimalizacja liczby przypadków pominiętych (fałszywych negatywów) \n",
    "#kosztem potencjalnie większej liczby fałszywych alarmów \n",
    "#(fałszywych pozytywów).\n",
    "\n",
    "from sklearn.metrics import recall_score\n",
    "#?????(y_test, y_pred)"
   ]
  },
  {
   "cell_type": "code",
   "execution_count": null,
   "id": "1a534ca2",
   "metadata": {},
   "outputs": [],
   "source": [
    "#Precision jest stosowane w sytuacjach, gdzie priorytetem jest \n",
    "#minimalizacja liczby fałszywych alarmów (fałszywych pozytywów) \n",
    "#kosztem potencjalnie większej liczby przypadków pominiętych \n",
    "#(fałszywych negatywów).\n",
    "\n",
    "from sklearn.metrics import precision_score\n",
    "#?????(y_test, y_pred)"
   ]
  },
  {
   "cell_type": "code",
   "execution_count": null,
   "id": "2df9eeb0",
   "metadata": {},
   "outputs": [],
   "source": [
    "#Stosuje się ją, gdy istnieje kompromis między minimizowaniem \n",
    "#błędów przegapienia (fałszywe negatywy) i minimizowaniem błędów \n",
    "#fałszywie pozytywnych (fałszywe pozytywy), i chcemy ocenić jakość \n",
    "#klasyfikatora uwzględniając oba te aspekty. Wartość F1 jest \n",
    "#szczególnie przydatna, gdy dane są niezbalansowane, tj. jedna z klas \n",
    "#ma znacznie więcej przypadków niż druga, ponieważ pomaga w ocenie \n",
    "#jakości klasyfikacji w sposób, który uwzględnia obie klasy.\n",
    "\n",
    "from sklearn.metrics import f1_score\n",
    "#?????(y_test, y_pred)"
   ]
  },
  {
   "cell_type": "code",
   "execution_count": null,
   "id": "ad7aedc2",
   "metadata": {},
   "outputs": [],
   "source": [
    "#Stosuje się AUC, gdy interesuje nas ogólna zdolność modelu do \n",
    "#rozróżniania klas, niekoniecznie konkretna wartość progowa. \n",
    "#Krzywa ROC przedstawia stosunek między true positive rate (czułością) \n",
    "#a false positive rate (specyficznością) dla różnych progów \n",
    "#decyzyjnych modelu.\n",
    "\n",
    "from sklearn.metrics import roc_auc_score\n",
    "#?????(y_test, y_pred)"
   ]
  },
  {
   "cell_type": "code",
   "execution_count": null,
   "id": "cb968e5a",
   "metadata": {},
   "outputs": [],
   "source": []
  }
 ],
 "metadata": {
  "kernelspec": {
   "display_name": "Python 3 (ipykernel)",
   "language": "python",
   "name": "python3"
  },
  "language_info": {
   "codemirror_mode": {
    "name": "ipython",
    "version": 3
   },
   "file_extension": ".py",
   "mimetype": "text/x-python",
   "name": "python",
   "nbconvert_exporter": "python",
   "pygments_lexer": "ipython3",
   "version": "3.9.7"
  }
 },
 "nbformat": 4,
 "nbformat_minor": 5
}
